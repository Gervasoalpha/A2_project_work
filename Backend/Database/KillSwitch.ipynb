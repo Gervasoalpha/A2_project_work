{
    "metadata": {
        "kernelspec": {
            "name": "SQL",
            "display_name": "SQL",
            "language": "sql"
        },
        "language_info": {
            "name": "sql",
            "version": ""
        }
    },
    "nbformat_minor": 2,
    "nbformat": 4,
    "cells": [
        {
            "cell_type": "code",
            "source": [
                "DROP TABLE IF EXISTS dbo.users;"
            ],
            "metadata": {
                "azdata_cell_guid": "79938305-3a9c-445c-8164-fa4e594248ab",
                "language": "sql"
            },
            "outputs": [
                {
                    "output_type": "error",
                    "evalue": "Msg 3726, Level 16, State 1, Line 1\r\nCould not drop object 'dbo.users' because it is referenced by a FOREIGN KEY constraint.",
                    "ename": "",
                    "traceback": []
                },
                {
                    "output_type": "display_data",
                    "data": {
                        "text/html": "Total execution time: 00:00:00.064"
                    },
                    "metadata": {}
                }
            ],
            "execution_count": 4
        },
        {
            "cell_type": "code",
            "source": [
                "DROP TABLE IF EXISTS dbo.logs;"
            ],
            "metadata": {
                "azdata_cell_guid": "694a56af-433a-493b-9ec7-51d93f07c934"
            },
            "outputs": [
                {
                    "output_type": "display_data",
                    "data": {
                        "text/html": "Commands completed successfully."
                    },
                    "metadata": {}
                },
                {
                    "output_type": "display_data",
                    "data": {
                        "text/html": "Total execution time: 00:00:00.047"
                    },
                    "metadata": {}
                }
            ],
            "execution_count": 2
        },
        {
            "cell_type": "code",
            "source": [
                "SELECT \r\n",
                "    'ALTER TABLE [' +  OBJECT_SCHEMA_NAME(parent_object_id) +\r\n",
                "    '].[' + OBJECT_NAME(parent_object_id) + \r\n",
                "    '] DROP CONSTRAINT [' + name + ']'\r\n",
                "FROM sys.foreign_keys\r\n",
                "WHERE referenced_object_id = object_id('pics')\r\n",
                "ALTER TABLE [dbo].[groups_pics] DROP CONSTRAINT [FK__groups_pi__pic_i__0A9D95DB]\r\n",
                "ALTER TABLE [dbo].[groups_pics] DROP CONSTRAINT [FK__groups_pi__pic_i__114A936A]\r\n",
                "DROP TABLE  IF EXISTS dbo.pics;"
            ],
            "metadata": {
                "azdata_cell_guid": "8f5449f2-0659-4d2b-8f58-2496506526d4"
            },
            "outputs": [
                {
                    "output_type": "display_data",
                    "data": {
                        "text/html": "(2 rows affected)"
                    },
                    "metadata": {}
                },
                {
                    "output_type": "display_data",
                    "data": {
                        "text/html": "Total execution time: 00:00:00.065"
                    },
                    "metadata": {}
                },
                {
                    "output_type": "execute_result",
                    "metadata": {},
                    "execution_count": 9,
                    "data": {
                        "application/vnd.dataresource+json": {
                            "schema": {
                                "fields": [
                                    {
                                        "name": "(No column name)"
                                    }
                                ]
                            },
                            "data": [
                                {
                                    "0": "ALTER TABLE [dbo].[groups_pics] DROP CONSTRAINT [FK__groups_pi__pic_i__0A9D95DB]"
                                },
                                {
                                    "0": "ALTER TABLE [dbo].[groups_pics] DROP CONSTRAINT [FK__groups_pi__pic_i__114A936A]"
                                }
                            ]
                        },
                        "text/html": [
                            "<table>",
                            "<tr><th>(No column name)</th></tr>",
                            "<tr><td>ALTER TABLE [dbo].[groups_pics] DROP CONSTRAINT [FK__groups_pi__pic_i__0A9D95DB]</td></tr>",
                            "<tr><td>ALTER TABLE [dbo].[groups_pics] DROP CONSTRAINT [FK__groups_pi__pic_i__114A936A]</td></tr>",
                            "</table>"
                        ]
                    }
                }
            ],
            "execution_count": 9
        },
        {
            "cell_type": "code",
            "source": [
                "SELECT \r\n",
                "    'ALTER TABLE [' +  OBJECT_SCHEMA_NAME(parent_object_id) +\r\n",
                "    '].[' + OBJECT_NAME(parent_object_id) + \r\n",
                "    '] DROP CONSTRAINT [' + name + ']'\r\n",
                "FROM sys.foreign_keys\r\n",
                "WHERE referenced_object_id = object_id('raspberries')\r\n",
                "ALTER TABLE [dbo].[pics] DROP CONSTRAINT [FK__pics__rasberry_i__0D7A0286]\r\n",
                "ALTER TABLE [dbo].[pics] DROP CONSTRAINT [FK__pics__rasberry_i__14270015]\r\n",
                "DROP TABLE IF EXISTS dbo.raspberries;"
            ],
            "metadata": {
                "azdata_cell_guid": "4a530198-25a2-459a-bfd6-8d8504371f9a"
            },
            "outputs": [
                {
                    "output_type": "display_data",
                    "data": {
                        "text/html": "(2 rows affected)"
                    },
                    "metadata": {}
                },
                {
                    "output_type": "display_data",
                    "data": {
                        "text/html": "Total execution time: 00:00:00.070"
                    },
                    "metadata": {}
                },
                {
                    "output_type": "execute_result",
                    "metadata": {},
                    "execution_count": 7,
                    "data": {
                        "application/vnd.dataresource+json": {
                            "schema": {
                                "fields": [
                                    {
                                        "name": "(No column name)"
                                    }
                                ]
                            },
                            "data": [
                                {
                                    "0": "ALTER TABLE [dbo].[pics] DROP CONSTRAINT [FK__pics__rasberry_i__0D7A0286]"
                                },
                                {
                                    "0": "ALTER TABLE [dbo].[pics] DROP CONSTRAINT [FK__pics__rasberry_i__14270015]"
                                }
                            ]
                        },
                        "text/html": [
                            "<table>",
                            "<tr><th>(No column name)</th></tr>",
                            "<tr><td>ALTER TABLE [dbo].[pics] DROP CONSTRAINT [FK__pics__rasberry_i__0D7A0286]</td></tr>",
                            "<tr><td>ALTER TABLE [dbo].[pics] DROP CONSTRAINT [FK__pics__rasberry_i__14270015]</td></tr>",
                            "</table>"
                        ]
                    }
                }
            ],
            "execution_count": 7
        },
        {
            "cell_type": "code",
            "source": [
                "DROP TABLE IF EXISTS dbo.users;"
            ],
            "metadata": {
                "azdata_cell_guid": "bed5010c-ae17-4e6a-a1d5-ee897406c5ce",
                "language": "sql"
            },
            "outputs": [
                {
                    "output_type": "display_data",
                    "data": {
                        "text/html": "Commands completed successfully."
                    },
                    "metadata": {}
                },
                {
                    "output_type": "display_data",
                    "data": {
                        "text/html": "Total execution time: 00:00:00.035"
                    },
                    "metadata": {}
                }
            ],
            "execution_count": 13
        },
        {
            "cell_type": "code",
            "source": [
                "DROP TABLE IF EXISTS dbo.groups_pics;"
            ],
            "metadata": {
                "azdata_cell_guid": "cb8fd90d-4517-44a6-85fc-97529fe70e40",
                "language": "sql"
            },
            "outputs": [
                {
                    "output_type": "display_data",
                    "data": {
                        "text/html": "Commands completed successfully."
                    },
                    "metadata": {}
                },
                {
                    "output_type": "display_data",
                    "data": {
                        "text/html": "Total execution time: 00:00:00.035"
                    },
                    "metadata": {}
                }
            ],
            "execution_count": 14
        },
        {
            "cell_type": "code",
            "source": [
                "DROP TABLE IF EXISTS dbo.groups_users;"
            ],
            "metadata": {
                "azdata_cell_guid": "76daade3-8bd1-4dff-b18b-e62c05f428a3",
                "language": "sql"
            },
            "outputs": [
                {
                    "output_type": "display_data",
                    "data": {
                        "text/html": "Commands completed successfully."
                    },
                    "metadata": {}
                },
                {
                    "output_type": "display_data",
                    "data": {
                        "text/html": "Total execution time: 00:00:00.033"
                    },
                    "metadata": {}
                }
            ],
            "execution_count": 15
        },
        {
            "cell_type": "code",
            "source": [
                "SELECT \r\n",
                "    'ALTER TABLE [' +  OBJECT_SCHEMA_NAME(parent_object_id) +\r\n",
                "    '].[' + OBJECT_NAME(parent_object_id) + \r\n",
                "    '] DROP CONSTRAINT [' + name + ']'\r\n",
                "DROP TABLE IF EXISTS dbo.groups;FROM sys.foreign_keys\r\n",
                "WHERE referenced_object_id = object_id('groups')\r\n",
                ""
            ],
            "metadata": {
                "azdata_cell_guid": "c5259d0b-7d7b-434d-b955-7c517f06e77f"
            },
            "outputs": [
{
    "output_type": "display_data",
    "data": {
        "text/html": "(8 rows affected)"
    },
    "metadata": {}
}, {
    "output_type": "display_data",
    "data": {
        "text/html": "Total execution time: 00:00:00.037"
    },
    "metadata": {}
}, {
    "output_type": "execute_result",
    "metadata": {},
    "execution_count": 10,
    "data": {
        "application/vnd.dataresource+json": {
            "schema": {
                "fields": [
                    {
                        "name": "(No column name)"
                    }
                ]
            },
            "data": [
                {
                    "0": "ALTER TABLE [dbo].[groups_users] DROP CONSTRAINT [FK__groups_us__group__08B54D69]"
                },
                {
                    "0": "ALTER TABLE [dbo].[groups_pics] DROP CONSTRAINT [FK__groups_pi__group__09A971A2]"
                },
                {
                    "0": "ALTER TABLE [dbo].[groups_users] DROP CONSTRAINT [FK__groups_us__group__0F624AF8]"
                },
                {
                    "0": "ALTER TABLE [dbo].[groups_pics] DROP CONSTRAINT [FK__groups_pi__group__10566F31]"
                },
                {
                    "0": "ALTER TABLE [dbo].[groups_users] DROP CONSTRAINT [FK__groups_us__group__3493CFA7]"
                },
                {
                    "0": "ALTER TABLE [dbo].[groups_pics] DROP CONSTRAINT [FK__groups_pi__group__3587F3E0]"
                },
                {
                    "0": "ALTER TABLE [dbo].[groups_users] DROP CONSTRAINT [FK__groups_us__group__41EDCAC5]"
                },
                {
                    "0": "ALTER TABLE [dbo].[groups_pics] DROP CONSTRAINT [FK__groups_pi__group__42E1EEFE]"
                }
            ]
        },
        "text/html": [
            "<table>",
            "<tr><th>(No column name)</th></tr>",
            "<tr><td>ALTER TABLE [dbo].[groups_users] DROP CONSTRAINT [FK__groups_us__group__08B54D69]</td></tr>",
            "<tr><td>ALTER TABLE [dbo].[groups_pics] DROP CONSTRAINT [FK__groups_pi__group__09A971A2]</td></tr>",
            "<tr><td>ALTER TABLE [dbo].[groups_users] DROP CONSTRAINT [FK__groups_us__group__0F624AF8]</td></tr>",
            "<tr><td>ALTER TABLE [dbo].[groups_pics] DROP CONSTRAINT [FK__groups_pi__group__10566F31]</td></tr>",
            "<tr><td>ALTER TABLE [dbo].[groups_users] DROP CONSTRAINT [FK__groups_us__group__3493CFA7]</td></tr>",
            "<tr><td>ALTER TABLE [dbo].[groups_pics] DROP CONSTRAINT [FK__groups_pi__group__3587F3E0]</td></tr>",
            "<tr><td>ALTER TABLE [dbo].[groups_users] DROP CONSTRAINT [FK__groups_us__group__41EDCAC5]</td></tr>",
            "<tr><td>ALTER TABLE [dbo].[groups_pics] DROP CONSTRAINT [FK__groups_pi__group__42E1EEFE]</td></tr>",
            "</table>"
        ]
    }
}
],
            "execution_count": 10
        }
    ]
}