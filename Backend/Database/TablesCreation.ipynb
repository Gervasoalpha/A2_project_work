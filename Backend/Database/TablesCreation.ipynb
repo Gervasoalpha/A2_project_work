{
    "metadata": {
        "kernelspec": {
            "name": "SQL",
            "display_name": "SQL",
            "language": "sql"
        },
        "language_info": {
            "name": "sql",
            "version": ""
        }
    },
    "nbformat_minor": 2,
    "nbformat": 4,
    "cells": [
        {
            "cell_type": "code",
            "source": [
                "CREATE TABLE [dbo].[users] (\r\n",
                "  [id] UNIQUEIDENTIFIER NOT NULL,\r\n",
                "  [name] NCHAR(10) NOT NULL,\r\n",
                "  [surname] NCHAR(10) NOT NULL,\r\n",
                "  [username] NVARCHAR(50) NOT NULL,\r\n",
                "  [password] NVARCHAR(50) NOT NULL,\r\n",
                "  [admin?] BIT NOT NULL DEFAULT (0),\r\n",
                "  PRIMARY KEY ([id])\r\n",
                ")\r\n",
                "GO\r\n",
                ""
            ],
            "metadata": {
                "azdata_cell_guid": "f44359b1-16bc-4970-b947-d1d6df47e5a0",
                "tags": [],
                "language": "sql"
            },
            "outputs": [
                {
                    "output_type": "display_data",
                    "data": {
                        "text/html": "Commands completed successfully."
                    },
                    "metadata": {}
                },
                {
                    "output_type": "display_data",
                    "data": {
                        "text/html": "Total execution time: 00:00:00.048"
                    },
                    "metadata": {}
                }
            ],
            "execution_count": 4
        },
        {
            "cell_type": "code",
            "source": [
                "CREATE TABLE [dbo].[logs] (\r\n",
                "  [id] BIGINT NOT NULL IDENTITY(1, 1),\r\n",
                "  [authcode] INT NOT NULL,\r\n",
                "  [unlockcode] INT NOT NULL,\r\n",
                "  [openend?] BIT NOT NULL DEFAULT (0),\r\n",
                "  [user_id] UNIQUEIDENTIFIER,\r\n",
                "  [pic_id] UNIQUEIDENTIFIER,\r\n",
                "  PRIMARY KEY ([id])\r\n",
                ")\r\n",
                "GO\r\n",
                ""
            ],
            "metadata": {
                "azdata_cell_guid": "0e68a277-795d-440a-85c4-e75535ca123e",
                "language": "sql"
            },
            "outputs": [
{
    "output_type": "display_data",
    "data": {
        "text/html": "Commands completed successfully."
    },
    "metadata": {}
}, {
    "output_type": "display_data",
    "data": {
        "text/html": "Total execution time: 00:00:00.151"
    },
    "metadata": {}
}
],
            "execution_count": 2
        },
        {
            "cell_type": "code",
            "source": [
                "CREATE TABLE [dbo].[pics] (\r\n",
                "  [id] UNIQUEIDENTIFIER NOT NULL,\r\n",
                "  [portnumber] INT NOT NULL,\r\n",
                "  [rasberry_id] INT NOT NULL,\r\n",
                "  PRIMARY KEY ([id])\r\n",
                ")\r\n",
                "GO"
            ],
            "metadata": {
                "azdata_cell_guid": "bed977ef-b444-4845-913b-30b1658950cb",
                "tags": [],
                "language": "sql"
            },
            "outputs": [
                {
                    "output_type": "display_data",
                    "data": {
                        "text/html": "Commands completed successfully."
                    },
                    "metadata": {}
                },
                {
                    "output_type": "display_data",
                    "data": {
                        "text/html": "Total execution time: 00:00:00.060"
                    },
                    "metadata": {}
                }
            ],
            "execution_count": 7
        },
        {
            "cell_type": "code",
            "source": [
                "\r\n",
                "CREATE TABLE [dbo].[raspberries] (\r\n",
                "  [id] INT NOT NULL IDENTITY(1, 1),\r\n",
                "  [buildingnumber] INT NOT NULL,\r\n",
                "  PRIMARY KEY ([id])\r\n",
                ")\r\n",
                "GO"
            ],
            "metadata": {
                "azdata_cell_guid": "2ecdc6a2-5183-484f-bd56-bac5cb59a22c",
                "language": "sql"
            },
            "outputs": [
                {
                    "output_type": "display_data",
                    "data": {
                        "text/html": "Commands completed successfully."
                    },
                    "metadata": {}
                },
                {
                    "output_type": "display_data",
                    "data": {
                        "text/html": "Total execution time: 00:00:00.045"
                    },
                    "metadata": {}
                }
            ],
            "execution_count": 8
        },
        {
            "cell_type": "code",
            "source": [
                "CREATE TABLE [dbo].[groups_users] (\r\n",
                "  [id] UNIQUEIDENTIFIER NOT NULL,\r\n",
                "  [user_id] UNIQUEIDENTIFIER NOT NULL,\r\n",
                "  [group_id] INT NOT NULL,\r\n",
                "  PRIMARY KEY ([id])\r\n",
                ")\r\n",
                "GO"
            ],
            "metadata": {
                "azdata_cell_guid": "e8a48363-3ac4-4a09-b14d-46aebf340743",
                "language": "sql"
            },
            "outputs": [
                {
                    "output_type": "display_data",
                    "data": {
                        "text/html": "Commands completed successfully."
                    },
                    "metadata": {}
                },
                {
                    "output_type": "display_data",
                    "data": {
                        "text/html": "Total execution time: 00:00:00.048"
                    },
                    "metadata": {}
                }
            ],
            "execution_count": 9
        },
        {
            "cell_type": "code",
            "source": [
                "CREATE TABLE [dbo].[groups] (\r\n",
                "  [id] INT NOT NULL IDENTITY(1, 1),\r\n",
                "  [name] NCHAR(10) NOT NULL,\r\n",
                "  PRIMARY KEY ([id])\r\n",
                ")\r\n",
                "GO"
            ],
            "metadata": {
                "azdata_cell_guid": "94bb0d2b-8dd9-46e7-8579-1fa900642fc0",
                "language": "sql"
            },
            "outputs": [
                {
                    "output_type": "display_data",
                    "data": {
                        "text/html": "Commands completed successfully."
                    },
                    "metadata": {}
                },
                {
                    "output_type": "display_data",
                    "data": {
                        "text/html": "Total execution time: 00:00:00.056"
                    },
                    "metadata": {}
                }
            ],
            "execution_count": 10
        },
        {
            "cell_type": "code",
            "source": [
                "\r\n",
                "CREATE TABLE [dbo].[groups_pics] (\r\n",
                "  [id] UNIQUEIDENTIFIER NOT NULL,\r\n",
                "  [pic_id] UNIQUEIDENTIFIER NOT NULL,\r\n",
                "  [group_id] INT NOT NULL,\r\n",
                "  PRIMARY KEY ([id])\r\n",
                ")\r\n",
                "GO"
            ],
            "metadata": {
                "azdata_cell_guid": "d0e83fd6-3334-4426-95f0-b249e92c6411",
                "tags": [],
                "language": "sql"
            },
            "outputs": [
                {
                    "output_type": "display_data",
                    "data": {
                        "text/html": "Commands completed successfully."
                    },
                    "metadata": {}
                },
                {
                    "output_type": "display_data",
                    "data": {
                        "text/html": "Total execution time: 00:00:00.061"
                    },
                    "metadata": {}
                }
            ],
            "execution_count": 11
        },
        {
            "cell_type": "code",
            "source": [
                "ALTER TABLE [dbo].[groups_users] ADD FOREIGN KEY ([user_id]) REFERENCES [dbo].[users] ([id])\r\n",
                "GO\r\n",
                "\r\n",
                "ALTER TABLE [dbo].[groups_users] ADD FOREIGN KEY ([group_id]) REFERENCES [dbo].[groups] ([id])\r\n",
                "GO\r\n",
                "\r\n",
                "ALTER TABLE [dbo].[groups_pics] ADD FOREIGN KEY ([group_id]) REFERENCES [dbo].[groups] ([id])\r\n",
                "GO\r\n",
                "\r\n",
                "ALTER TABLE [dbo].[groups_pics] ADD FOREIGN KEY ([pic_id]) REFERENCES [dbo].[pics] ([id])\r\n",
                "GO\r\n",
                "\r\n",
                "ALTER TABLE [dbo].[logs] ADD FOREIGN KEY ([user_id]) REFERENCES [dbo].[users] ([id])\r\n",
                "GO\r\n",
                "\r\n",
                "ALTER TABLE [dbo].[logs] ADD FOREIGN KEY ([pic_id]) REFERENCES [dbo].[pics] ([id])\r\n",
                "GO\r\n",
                "\r\n",
                "ALTER TABLE [dbo].[pics] ADD FOREIGN KEY ([rasberry_id]) REFERENCES [dbo].[raspberries] ([id])\r\n",
                "GO\r\n",
                ""
            ],
            "metadata": {
                "azdata_cell_guid": "1fff3401-9d3a-4e8a-8b7a-995dabeac666",
                "language": "sql"
            },
            "outputs": [
                {
                    "output_type": "display_data",
                    "data": {
                        "text/html": "Commands completed successfully."
                    },
                    "metadata": {}
                },
                {
                    "output_type": "display_data",
                    "data": {
                        "text/html": "Commands completed successfully."
                    },
                    "metadata": {}
                },
                {
                    "output_type": "display_data",
                    "data": {
                        "text/html": "Commands completed successfully."
                    },
                    "metadata": {}
                },
                {
                    "output_type": "display_data",
                    "data": {
                        "text/html": "Commands completed successfully."
                    },
                    "metadata": {}
                },
                {
                    "output_type": "display_data",
                    "data": {
                        "text/html": "Commands completed successfully."
                    },
                    "metadata": {}
                },
                {
                    "output_type": "display_data",
                    "data": {
                        "text/html": "Commands completed successfully."
                    },
                    "metadata": {}
                },
                {
                    "output_type": "display_data",
                    "data": {
                        "text/html": "Commands completed successfully."
                    },
                    "metadata": {}
                },
                {
                    "output_type": "display_data",
                    "data": {
                        "text/html": "Total execution time: 00:00:00.432"
                    },
                    "metadata": {}
                }
            ],
            "execution_count": 13
        }
    ]
}